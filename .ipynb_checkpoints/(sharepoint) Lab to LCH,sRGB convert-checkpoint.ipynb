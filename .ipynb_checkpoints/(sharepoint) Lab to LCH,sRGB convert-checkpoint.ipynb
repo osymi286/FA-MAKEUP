{
 "cells": [
  {
   "cell_type": "code",
   "execution_count": 1,
   "id": "2d2d2dd6",
   "metadata": {},
   "outputs": [],
   "source": [
    "#import default module\n",
    "\n",
    "import time\n",
    "import os\n",
    "import pandas as pd  \n",
    "import re\n",
    "import seaborn as sns\n",
    "import matplotlib.pyplot as plt \n",
    "import numpy as np\n",
    "import openpyxl\n",
    "import math"
   ]
  },
  {
   "cell_type": "code",
   "execution_count": 2,
   "id": "b4eba1be",
   "metadata": {},
   "outputs": [],
   "source": [
    "#Current User's file location\n",
    "\n",
    "os.chdir(\"/Users/ysoh/Desktop/FA팀/3.맞춤형쿠션/2024 조색 샘플 측색\")\n",
    "pd.options.display.float_format='{:.2f}'.format"
   ]
  },
  {
   "cell_type": "code",
   "execution_count": 10,
   "id": "aff3bf3c",
   "metadata": {},
   "outputs": [],
   "source": [
    "#Load the work file(csv)\n",
    "\n",
    "df = pd.read_csv('./(작업용) 맞춤형 파운데이션 측색_FA팀(2408)CSV.csv', encoding='cp949')"
   ]
  },
  {
   "cell_type": "code",
   "execution_count": 5,
   "id": "c9767cda",
   "metadata": {},
   "outputs": [],
   "source": [
    "#Convert tool: import Skimage\n",
    "#If there's any other information needed, please check the official documents from the site below \n",
    "#https://scikit-image.org/\n",
    "\n",
    "import skimage\n",
    "from skimage import color"
   ]
  },
  {
   "cell_type": "code",
   "execution_count": 6,
   "id": "02a838fb",
   "metadata": {
    "scrolled": true
   },
   "outputs": [],
   "source": [
    "#Convert1: from Lab to LCh \n",
    "\n",
    "LCH_array=[]\n",
    "\n",
    "for i in range(len(df.iloc[:])):\n",
    "    lab = ([df['L*(D65)'][i],df['a*(D65)'][i],df['b*(D65)'][i]])\n",
    "    lch = skimage.color.lab2lch(lab, channel_axis=-1)\n",
    "\n",
    "    LCH_array.append(lch)\n",
    "    i=i+1"
   ]
  },
  {
   "cell_type": "code",
   "execution_count": 7,
   "id": "72ef41d0",
   "metadata": {
    "scrolled": true
   },
   "outputs": [],
   "source": [
    "result=pd.DataFrame(LCH_array, columns=['L','C','h'])\n",
    "result['h'] = result['h']*57.29578\n",
    "result.to_csv('240806_맞춤형쿠션측색_Lab2LCh.csv')"
   ]
  },
  {
   "cell_type": "code",
   "execution_count": 8,
   "id": "71554e18",
   "metadata": {},
   "outputs": [],
   "source": [
    "#Convert2: from Lab to sRGB\n",
    "\n",
    "rgb_array=[]\n",
    "\n",
    "for i in range(len(df.iloc[:])):\n",
    "    lab = ([df['L*(D65)'][i],df['a*(D65)'][i],df['b*(D65)'][i]])\n",
    "    rgb = skimage.color.lab2rgb(lab, illuminant='D65', observer='2', channel_axis=-1)\n",
    "    \n",
    "    rgb_array.append(rgb)\n",
    "    i=i+1"
   ]
  },
  {
   "cell_type": "code",
   "execution_count": 9,
   "id": "14d1a284",
   "metadata": {},
   "outputs": [],
   "source": [
    "result2=pd.DataFrame(rgb_array, columns=['r','g','b'])\n",
    "result2.to_csv('240806_맞춤형쿠션측색_Lab2rgb.csv')"
   ]
  },
  {
   "cell_type": "code",
   "execution_count": null,
   "id": "d68284d3",
   "metadata": {},
   "outputs": [],
   "source": []
  }
 ],
 "metadata": {
  "kernelspec": {
   "display_name": "Python 3 (ipykernel)",
   "language": "python",
   "name": "python3"
  },
  "language_info": {
   "codemirror_mode": {
    "name": "ipython",
    "version": 3
   },
   "file_extension": ".py",
   "mimetype": "text/x-python",
   "name": "python",
   "nbconvert_exporter": "python",
   "pygments_lexer": "ipython3",
   "version": "3.11.3"
  }
 },
 "nbformat": 4,
 "nbformat_minor": 5
}
