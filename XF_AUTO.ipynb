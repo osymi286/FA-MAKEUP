{
 "cells": [
  {
   "cell_type": "code",
   "execution_count": 1,
   "id": "3618ff08",
   "metadata": {},
   "outputs": [
    {
     "name": "stdout",
     "output_type": "stream",
     "text": [
      "Requirement already satisfied: openpyxl in c:\\users\\ysoh\\appdata\\local\\programs\\python\\python311\\lib\\site-packages (3.1.2)\n",
      "Requirement already satisfied: et-xmlfile in c:\\users\\ysoh\\appdata\\local\\programs\\python\\python311\\lib\\site-packages (from openpyxl) (1.1.0)\n",
      "Note: you may need to restart the kernel to use updated packages.\n"
     ]
    }
   ],
   "source": [
    "pip install openpyxl"
   ]
  },
  {
   "cell_type": "code",
   "execution_count": 2,
   "id": "367d01b4",
   "metadata": {
    "scrolled": true
   },
   "outputs": [
    {
     "name": "stdout",
     "output_type": "stream",
     "text": [
      "Requirement already satisfied: pyautogui in c:\\users\\ysoh\\appdata\\local\\programs\\python\\python311\\lib\\site-packages (0.9.54)\n",
      "Requirement already satisfied: pymsgbox in c:\\users\\ysoh\\appdata\\local\\programs\\python\\python311\\lib\\site-packages (from pyautogui) (1.0.9)\n",
      "Requirement already satisfied: pytweening>=1.0.4 in c:\\users\\ysoh\\appdata\\local\\programs\\python\\python311\\lib\\site-packages (from pyautogui) (1.0.7)\n",
      "Requirement already satisfied: pyscreeze>=0.1.21 in c:\\users\\ysoh\\appdata\\local\\programs\\python\\python311\\lib\\site-packages (from pyautogui) (0.1.29)\n",
      "Requirement already satisfied: pygetwindow>=0.0.5 in c:\\users\\ysoh\\appdata\\local\\programs\\python\\python311\\lib\\site-packages (from pyautogui) (0.0.9)\n",
      "Requirement already satisfied: mouseinfo in c:\\users\\ysoh\\appdata\\local\\programs\\python\\python311\\lib\\site-packages (from pyautogui) (0.1.3)\n",
      "Requirement already satisfied: pyrect in c:\\users\\ysoh\\appdata\\local\\programs\\python\\python311\\lib\\site-packages (from pygetwindow>=0.0.5->pyautogui) (0.2.0)\n",
      "Requirement already satisfied: pyscreenshot in c:\\users\\ysoh\\appdata\\local\\programs\\python\\python311\\lib\\site-packages (from pyscreeze>=0.1.21->pyautogui) (3.1)\n",
      "Requirement already satisfied: Pillow>=9.3.0 in c:\\users\\ysoh\\appdata\\local\\programs\\python\\python311\\lib\\site-packages (from pyscreeze>=0.1.21->pyautogui) (9.5.0)\n",
      "Requirement already satisfied: pyperclip in c:\\users\\ysoh\\appdata\\local\\programs\\python\\python311\\lib\\site-packages (from mouseinfo->pyautogui) (1.8.2)\n",
      "Requirement already satisfied: EasyProcess in c:\\users\\ysoh\\appdata\\local\\programs\\python\\python311\\lib\\site-packages (from pyscreenshot->pyscreeze>=0.1.21->pyautogui) (1.1)\n",
      "Requirement already satisfied: entrypoint2 in c:\\users\\ysoh\\appdata\\local\\programs\\python\\python311\\lib\\site-packages (from pyscreenshot->pyscreeze>=0.1.21->pyautogui) (1.1)\n",
      "Requirement already satisfied: mss in c:\\users\\ysoh\\appdata\\local\\programs\\python\\python311\\lib\\site-packages (from pyscreenshot->pyscreeze>=0.1.21->pyautogui) (9.0.1)\n",
      "Note: you may need to restart the kernel to use updated packages.\n"
     ]
    }
   ],
   "source": [
    "pip install pyautogui"
   ]
  },
  {
   "cell_type": "code",
   "execution_count": 3,
   "id": "84642248",
   "metadata": {},
   "outputs": [],
   "source": [
    "import pyautogui"
   ]
  },
  {
   "cell_type": "code",
   "execution_count": 29,
   "id": "32989912",
   "metadata": {},
   "outputs": [],
   "source": [
    "#엑셀 파일 '찾기(ctrl F)' 실행 자동화\n",
    "import openpyxl\n",
    "from openpyxl import Workbook\n",
    "from openpyxl import load_workbook\n",
    "wb1=Workbook()\n",
    "\n",
    "wb1 = load_workbook('특정원료(성분포함)품목조회(Y).xlsx')\n",
    "wb2 = load_workbook('특정원료(성분포함)품목조회(R).xlsx')\n",
    "wb3 = load_workbook('특정원료(성분포함)품목조회(B).xlsx')\n",
    "\n",
    "ws1 = wb1.active\n",
    "ws2 = wb2.active\n",
    "\n",
    "#wb1.save('excel1_save.xlsx')\n",
    "#wb2.save('excel2_save.xlsx')\n"
   ]
  },
  {
   "cell_type": "code",
   "execution_count": 7,
   "id": "71a2cac1",
   "metadata": {},
   "outputs": [],
   "source": [
    "import os"
   ]
  },
  {
   "cell_type": "code",
   "execution_count": 10,
   "id": "33022415",
   "metadata": {},
   "outputs": [],
   "source": [
    "os.getcwd()\n",
    "os.chdir(\"C:\\\\Users\\\\ysoh\\\\Desktop\\\\FA팀\\\\3.맞춤형쿠션\")"
   ]
  },
  {
   "cell_type": "code",
   "execution_count": 13,
   "id": "47130356",
   "metadata": {},
   "outputs": [],
   "source": [
    "import pandas as pd\n",
    "pd.options.display.float_format='{:.2f}'.format"
   ]
  },
  {
   "cell_type": "code",
   "execution_count": null,
   "id": "f64c1dea",
   "metadata": {},
   "outputs": [],
   "source": [
    "for sheet1, sheet2 in zip(wb1, wb2):\n",
    "    for i in sheet1['품목코드']: #전체 품목코드 sheet1['C2':'C962'] or range(len('C2:C962'))\n",
    "        for j in sheet2.['품목코드']: #쿠션, 파운데이션 품목코드 특정원료(성분포함)품목조회.xlsx  sheet2['C3':'C803']\n",
    "            if i == j:\n",
    "                clipboard.copy(sheet1['함량(%)'][i])\n",
    "                pyautogui.hotkey('ctrl','v')\n",
    "                result=clipboard.paste(sheet1['함량(%)'][i]) #sheet2['IOY'][j] 위치에 붙여넣기\n",
    "                "
   ]
  },
  {
   "cell_type": "code",
   "execution_count": null,
   "id": "66b9b290",
   "metadata": {},
   "outputs": [],
   "source": [
    "#데스크탑 자동화 pyautogui\n",
    "pyautogui.moveTo(141,429)\n",
    "pyautogui.click(clicks=1)\n",
    "pyautogui.keyDown('ctrl')\n",
    "pyautogui.press('c')\n",
    "pyautogui.keyUp('shift')\n",
    "\n",
    "pyautogui.moveTo(141,429)\n",
    "pyautogui.click(clicks=1)\n",
    "pyautogui.keyDown('ctrl')\n",
    "pyautogui.press('c')\n",
    "pyautogui.keyUp('shift')"
   ]
  },
  {
   "cell_type": "code",
   "execution_count": 30,
   "id": "87170a1d",
   "metadata": {},
   "outputs": [],
   "source": [
    "contents_r=[]\n",
    "for i in ws1['C2:C964']: #전체 품목코드\n",
    "    for j in ws2['C2:C1444']: #쿠션, 파운데이션 품목코드 특정원료(성분포함)품목조회.xlsx\n",
    "       \n",
    "        if i[0].value == j[0].value:\n",
    "            for j_r in ws2['I2:I1444']:\n",
    "                contents_r.append(j_r[0].value)"
   ]
  },
  {
   "cell_type": "code",
   "execution_count": 35,
   "id": "ed90de5a",
   "metadata": {
    "scrolled": true
   },
   "outputs": [
    {
     "name": "stdout",
     "output_type": "stream",
     "text": [
      "1369407\n"
     ]
    }
   ],
   "source": [
    "print(len(contents_r))"
   ]
  },
  {
   "cell_type": "code",
   "execution_count": 27,
   "id": "b57798db",
   "metadata": {},
   "outputs": [
    {
     "name": "stdout",
     "output_type": "stream",
     "text": [
      "<Cell '특정원료(성분포함)품목조회'.C2>\n"
     ]
    }
   ],
   "source": [
    "for sheet1, sheet2 in zip(wb1, wb2):\n",
    "    print(sheet1['C2'])"
   ]
  }
 ],
 "metadata": {
  "kernelspec": {
   "display_name": "Python 3 (ipykernel)",
   "language": "python",
   "name": "python3"
  },
  "language_info": {
   "codemirror_mode": {
    "name": "ipython",
    "version": 3
   },
   "file_extension": ".py",
   "mimetype": "text/x-python",
   "name": "python",
   "nbconvert_exporter": "python",
   "pygments_lexer": "ipython3",
   "version": "3.11.3"
  }
 },
 "nbformat": 4,
 "nbformat_minor": 5
}
